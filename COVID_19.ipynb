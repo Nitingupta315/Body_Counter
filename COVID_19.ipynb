{
  "nbformat": 4,
  "nbformat_minor": 0,
  "metadata": {
    "colab": {
      "name": "COVID_19.ipynb",
      "provenance": [],
      "authorship_tag": "ABX9TyNMQWd9CbFGIJ4TD9+VyzqL",
      "include_colab_link": true
    },
    "kernelspec": {
      "name": "python3",
      "display_name": "Python 3"
    }
  },
  "cells": [
    {
      "cell_type": "markdown",
      "metadata": {
        "id": "view-in-github",
        "colab_type": "text"
      },
      "source": [
        "<a href=\"https://colab.research.google.com/github/amit17133129/Body_Counter/blob/master/COVID_19.ipynb\" target=\"_parent\"><img src=\"https://colab.research.google.com/assets/colab-badge.svg\" alt=\"Open In Colab\"/></a>"
      ]
    },
    {
      "cell_type": "code",
      "metadata": {
        "id": "sYwKFlAmpw9F",
        "colab_type": "code",
        "outputId": "108df122-53c7-4f16-95e3-e2d24402afea",
        "colab": {
          "base_uri": "https://localhost:8080/",
          "height": 33
        }
      },
      "source": [
        "!pip install COVID19py"
      ],
      "execution_count": 0,
      "outputs": [
        {
          "output_type": "stream",
          "text": [
            "Requirement already satisfied: COVID19py in /usr/local/lib/python3.6/dist-packages (0.2.0)\n"
          ],
          "name": "stdout"
        }
      ]
    },
    {
      "cell_type": "code",
      "metadata": {
        "id": "mtmsoV3Xp77O",
        "colab_type": "code",
        "outputId": "c02c595b-7520-4d01-89fa-379d5fda4662",
        "colab": {
          "base_uri": "https://localhost:8080/",
          "height": 33
        }
      },
      "source": [
        "import COVID19Py\n",
        "covid19 = COVID19Py.COVID19()\n",
        "data = covid19.getAll(timelines=True)\n",
        "virus = dict(data[\"latest\"])\n",
        "names = list(virus.keys())\n",
        "values = list(virus.values())\n",
        "virus"
      ],
      "execution_count": 0,
      "outputs": [
        {
          "output_type": "execute_result",
          "data": {
            "text/plain": [
              "{'confirmed': 335955, 'deaths': 14632, 'recovered': 97704}"
            ]
          },
          "metadata": {
            "tags": []
          },
          "execution_count": 67
        }
      ]
    },
    {
      "cell_type": "code",
      "metadata": {
        "id": "-i0BGPEfqCy4",
        "colab_type": "code",
        "outputId": "c10a09ba-907e-4b18-c62d-e7e0d8220943",
        "colab": {
          "base_uri": "https://localhost:8080/",
          "height": 282
        }
      },
      "source": [
        "import matplotlib.pyplot as plt\n",
        "plt.bar(range(len(virus)), values, tick_label = names)\n",
        "plt.xlabel(\"WORLD\")\n",
        "plt.show()\n"
      ],
      "execution_count": 0,
      "outputs": [
        {
          "output_type": "display_data",
          "data": {
            "image/png": "[encoded data removed]",
            "text/plain": [
              "<Figure size 432x288 with 1 Axes>"
            ]
          },
          "metadata": {
            "tags": []
          }
        }
      ]
    },
    {
      "cell_type": "code",
      "metadata": {
        "id": "UbFBGcFhsRDc",
        "colab_type": "code",
        "outputId": "8d07dd26-0b3b-4c3d-cc8c-d2dd9c56a50e",
        "colab": {
          "base_uri": "https://localhost:8080/",
          "height": 33
        }
      },
      "source": [
        "location = covid19.getLocationByCountryCode(\"IN\")\n",
        "loc_data = location[0]\n",
        "virus1 = dict(loc_data['latest'])\n",
        "virus1\n"
      ],
      "execution_count": 0,
      "outputs": [
        {
          "output_type": "execute_result",
          "data": {
            "text/plain": [
              "{'confirmed': 396, 'deaths': 7, 'recovered': 27}"
            ]
          },
          "metadata": {
            "tags": []
          },
          "execution_count": 79
        }
      ]
    },
    {
      "cell_type": "code",
      "metadata": {
        "id": "umJ7TZf9tC9N",
        "colab_type": "code",
        "outputId": "d438dd8b-93e5-4faf-8c6d-920224bc1874",
        "colab": {
          "base_uri": "https://localhost:8080/",
          "height": 279
        }
      },
      "source": [
        "names = list(virus1.keys())\n",
        "values = list(virus1.values())\n",
        "plt.bar(range(len(virus1)), values, tick_label = names)\n",
        "plt.xlabel(\"INDIA\")\n",
        "plt.show()\n"
      ],
      "execution_count": 0,
      "outputs": [
        {
          "output_type": "display_data",
          "data": {
            "image/png": "[encoded data removed]",
            "text/plain": [
              "<Figure size 432x288 with 1 Axes>"
            ]
          },
          "metadata": {
            "tags": []
          }
        }
      ]
    },
    {
      "cell_type": "code",
      "metadata": {
        "id": "-9JkaOc_tMTe",
        "colab_type": "code",
        "outputId": "5d7d39dc-df4b-42f5-bad8-07e4b90a241a",
        "colab": {
          "base_uri": "https://localhost:8080/",
          "height": 33
        }
      },
      "source": [
        "location = covid19.getLocationByCountryCode(\"CN\")\n",
        "loc_data = location[0]\n",
        "virus2 = dict(loc_data['latest'])\n",
        "virus2"
      ],
      "execution_count": 0,
      "outputs": [
        {
          "output_type": "execute_result",
          "data": {
            "text/plain": [
              "{'confirmed': 67800, 'deaths': 3144, 'recovered': 59433}"
            ]
          },
          "metadata": {
            "tags": []
          },
          "execution_count": 81
        }
      ]
    },
    {
      "cell_type": "code",
      "metadata": {
        "id": "eP259C__vdId",
        "colab_type": "code",
        "outputId": "c85c83dc-cca7-4447-8a82-a796bf8aa267",
        "colab": {
          "base_uri": "https://localhost:8080/",
          "height": 280
        }
      },
      "source": [
        "names = list(virus2.keys())\n",
        "values = list(virus2.values())\n",
        "plt.bar(range(len(virus2)), values, tick_label = names)\n",
        "plt.xlabel(\"CHINA\")\n",
        "plt.show()"
      ],
      "execution_count": 0,
      "outputs": [
        {
          "output_type": "display_data",
          "data": {
            "image/png": "[encoded data removed]",
            "text/plain": [
              "<Figure size 432x288 with 1 Axes>"
            ]
          },
          "metadata": {
            "tags": []
          }
        }
      ]
    },
    {
      "cell_type": "code",
      "metadata": {
        "id": "zyMj16T5vhW7",
        "colab_type": "code",
        "outputId": "4057d8a4-4962-4d3c-def9-2f76666aca65",
        "colab": {
          "base_uri": "https://localhost:8080/",
          "height": 33
        }
      },
      "source": [
        "location = covid19.getLocationByCountryCode(\"IT\")\n",
        "loc_data = location[0]\n",
        "virus4 = dict(loc_data['latest'])\n",
        "virus4"
      ],
      "execution_count": 0,
      "outputs": [
        {
          "output_type": "execute_result",
          "data": {
            "text/plain": [
              "{'confirmed': 59138, 'deaths': 5476, 'recovered': 7024}"
            ]
          },
          "metadata": {
            "tags": []
          },
          "execution_count": 83
        }
      ]
    },
    {
      "cell_type": "code",
      "metadata": {
        "id": "qxR1m6ZtvsEy",
        "colab_type": "code",
        "outputId": "b0a4e2ee-20f0-4ae8-b0b8-ca81502888eb",
        "colab": {
          "base_uri": "https://localhost:8080/",
          "height": 279
        }
      },
      "source": [
        "names = list(virus4.keys())\n",
        "values = list(virus4.values())\n",
        "plt.bar(range(len(virus4)), values, tick_label = names)\n",
        "plt.xlabel(\"ITALY\")\n",
        "plt.show()"
      ],
      "execution_count": 0,
      "outputs": [
        {
          "output_type": "display_data",
          "data": {
            "image/png": "[encoded data removed]",
            "text/plain": [
              "<Figure size 432x288 with 1 Axes>"
            ]
          },
          "metadata": {
            "tags": []
          }
        }
      ]
    },
    {
      "cell_type": "code",
      "metadata": {
        "id": "1JSLGUwSvz_4",
        "colab_type": "code",
        "outputId": "52160759-c546-4d17-9663-52f8b788bf33",
        "colab": {
          "base_uri": "https://localhost:8080/",
          "height": 33
        }
      },
      "source": [
        "location = covid19.getLocationByCountryCode(\"ES\")\n",
        "loc_data = location[0]\n",
        "virus5 = dict(loc_data['latest'])\n",
        "virus5"
      ],
      "execution_count": 0,
      "outputs": [
        {
          "output_type": "execute_result",
          "data": {
            "text/plain": [
              "{'confirmed': 28768, 'deaths': 1772, 'recovered': 2575}"
            ]
          },
          "metadata": {
            "tags": []
          },
          "execution_count": 75
        }
      ]
    },
    {
      "cell_type": "code",
      "metadata": {
        "id": "5LgFezrqyABn",
        "colab_type": "code",
        "outputId": "d9231701-f4b8-4be8-93b6-9a77a88c1d22",
        "colab": {
          "base_uri": "https://localhost:8080/",
          "height": 282
        }
      },
      "source": [
        "names = list(virus5.keys())\n",
        "values = list(virus5.values())\n",
        "plt.bar(range(len(virus5)), values, tick_label = names)\n",
        "plt.xlabel(\"SPAIN\")\n",
        "plt.show()"
      ],
      "execution_count": 0,
      "outputs": [
        {
          "output_type": "display_data",
          "data": {
            "image/png": "[encoded data removed]",
            "text/plain": [
              "<Figure size 432x288 with 1 Axes>"
            ]
          },
          "metadata": {
            "tags": []
          }
        }
      ]
    },
    {
      "cell_type": "code",
      "metadata": {
        "id": "vjqzrNijyKAK",
        "colab_type": "code",
        "outputId": "6280de66-4f84-4306-d41a-2444261391d5",
        "colab": {
          "base_uri": "https://localhost:8080/",
          "height": 33
        }
      },
      "source": [
        "location = covid19.getLocationByCountryCode(\"US\")\n",
        "loc_data = location[0]\n",
        "virus6 = dict(loc_data['latest'])\n",
        "virus6"
      ],
      "execution_count": 0,
      "outputs": [
        {
          "output_type": "execute_result",
          "data": {
            "text/plain": [
              "{'confirmed': 1996, 'deaths': 95, 'recovered': 0}"
            ]
          },
          "metadata": {
            "tags": []
          },
          "execution_count": 77
        }
      ]
    },
    {
      "cell_type": "code",
      "metadata": {
        "id": "MbNMczDgyZ62",
        "colab_type": "code",
        "outputId": "e638a339-aa3d-4198-f3b4-cdafa4a6262d",
        "colab": {
          "base_uri": "https://localhost:8080/",
          "height": 279
        }
      },
      "source": [
        "names = list(virus6.keys())\n",
        "values = list(virus6.values())\n",
        "plt.bar(range(len(virus6)), values, tick_label = names)\n",
        "plt.xlabel(\"USA\")\n",
        "plt.show()"
      ],
      "execution_count": 0,
      "outputs": [
        {
          "output_type": "display_data",
          "data": {
            "image/png": "[encoded data removed]",
            "text/plain": [
              "<Figure size 432x288 with 1 Axes>"
            ]
          },
          "metadata": {
            "tags": []
          }
        }
      ]
    },
    {
      "cell_type": "code",
      "metadata": {
        "id": "0_sbrxS_yjsk",
        "colab_type": "code",
        "colab": {}
      },
      "source": [
        ""
      ],
      "execution_count": 0,
      "outputs": []
    }
  ]
}