{
  "nbformat": 4,
  "nbformat_minor": 0,
  "metadata": {
    "colab": {
      "name": "Polynomial_Regression.ipynb",
      "provenance": [],
      "include_colab_link": true
    },
    "kernelspec": {
      "name": "python3",
      "display_name": "Python 3"
    }
  },
  "cells": [
    {
      "cell_type": "markdown",
      "metadata": {
        "id": "view-in-github",
        "colab_type": "text"
      },
      "source": [
        "<a href=\"https://colab.research.google.com/github/amit17133129/Body_Counter/blob/master/Polynomial_Regression.ipynb\" target=\"_parent\"><img src=\"https://colab.research.google.com/assets/colab-badge.svg\" alt=\"Open In Colab\"/></a>"
      ]
    },
    {
      "cell_type": "code",
      "metadata": {
        "id": "JgeiZfrCLYYM",
        "colab_type": "code",
        "colab": {}
      },
      "source": [
        "# Import necessary libraries \n",
        "\n",
        "import numpy as np\n",
        "import pandas as pd\n",
        "import matplotlib.pyplot as plt\n",
        "import seaborn as sns\n",
        "\n",
        "sns.set_style('whitegrid')  #It will give background for graph"
      ],
      "execution_count": 0,
      "outputs": []
    },
    {
      "cell_type": "code",
      "metadata": {
        "id": "-yC3qU4cQo-D",
        "colab_type": "code",
        "colab": {}
      },
      "source": [
        "# Import the dataset\n",
        "\n",
        "df = pd.read_csv('/content/Height_Weight_Dataset.csv')"
      ],
      "execution_count": 0,
      "outputs": []
    },
    {
      "cell_type": "code",
      "metadata": {
        "id": "C2Fhp3X5Qt_Y",
        "colab_type": "code",
        "outputId": "c6618f75-3cdb-4bab-bf70-ce9e80709a8a",
        "colab": {
          "base_uri": "https://localhost:8080/",
          "height": 33
        }
      },
      "source": [
        "df.shape"
      ],
      "execution_count": 3,
      "outputs": [
        {
          "output_type": "execute_result",
          "data": {
            "text/plain": [
              "(71, 2)"
            ]
          },
          "metadata": {
            "tags": []
          },
          "execution_count": 3
        }
      ]
    },
    {
      "cell_type": "code",
      "metadata": {
        "id": "9lFlF9zHQrOi",
        "colab_type": "code",
        "outputId": "978e8885-0329-42e4-9421-45151fb178ab",
        "colab": {
          "base_uri": "https://localhost:8080/",
          "height": 134
        }
      },
      "source": [
        "df.info()"
      ],
      "execution_count": 4,
      "outputs": [
        {
          "output_type": "stream",
          "text": [
            "<class 'pandas.core.frame.DataFrame'>\n",
            "RangeIndex: 71 entries, 0 to 70\n",
            "Data columns (total 2 columns):\n",
            "Age       71 non-null int64\n",
            "Height    71 non-null int64\n",
            "dtypes: int64(2)\n",
            "memory usage: 1.2 KB\n"
          ],
          "name": "stdout"
        }
      ]
    },
    {
      "cell_type": "code",
      "metadata": {
        "id": "OwMrrfrKNQrT",
        "colab_type": "code",
        "outputId": "2204d2b8-fdbb-4606-b6ee-0e4afd51a886",
        "colab": {
          "base_uri": "https://localhost:8080/",
          "height": 100
        }
      },
      "source": [
        "#Seperating dependent and independent variables\n",
        "\n",
        "x = df['Age'].values\n",
        "y = df['Height'].values\n",
        "x"
      ],
      "execution_count": 5,
      "outputs": [
        {
          "output_type": "execute_result",
          "data": {
            "text/plain": [
              "array([10, 11, 12, 13, 14, 15, 16, 17, 18, 19, 20, 21, 22, 23, 24, 25, 26,\n",
              "       27, 28, 29, 30, 31, 32, 33, 34, 35, 36, 37, 38, 39, 40, 41, 42, 43,\n",
              "       44, 45, 46, 47, 48, 49, 50, 51, 52, 53, 54, 55, 56, 57, 58, 59, 60,\n",
              "       61, 62, 63, 64, 65, 66, 67, 68, 69, 70, 71, 72, 73, 74, 75, 76, 77,\n",
              "       78, 79, 80])"
            ]
          },
          "metadata": {
            "tags": []
          },
          "execution_count": 5
        }
      ]
    },
    {
      "cell_type": "code",
      "metadata": {
        "id": "iHBuAVWxNUQh",
        "colab_type": "code",
        "outputId": "cbb81e58-4adf-44fd-9069-b114cdf62872",
        "colab": {
          "base_uri": "https://localhost:8080/",
          "height": 117
        }
      },
      "source": [
        "y"
      ],
      "execution_count": 6,
      "outputs": [
        {
          "output_type": "execute_result",
          "data": {
            "text/plain": [
              "array([138, 138, 138, 139, 139, 139, 140, 140, 140, 141, 141, 141, 142,\n",
              "       142, 142, 143, 143, 143, 144, 144, 145, 145, 146, 146, 147, 147,\n",
              "       148, 148, 149, 149, 150, 150, 151, 152, 153, 155, 156, 157, 158,\n",
              "       159, 160, 161, 162, 163, 164, 164, 165, 166, 167, 168, 169, 170,\n",
              "       171, 172, 173, 175, 178, 180, 183, 185, 188, 190, 193, 195, 199,\n",
              "       203, 204, 205, 206, 207, 208])"
            ]
          },
          "metadata": {
            "tags": []
          },
          "execution_count": 6
        }
      ]
    },
    {
      "cell_type": "code",
      "metadata": {
        "id": "czluUS2OQRVZ",
        "colab_type": "code",
        "outputId": "82d747df-8ea2-4359-8ab9-1a03940cce2d",
        "colab": {
          "base_uri": "https://localhost:8080/",
          "height": 513
        }
      },
      "source": [
        "#ploting the dataset\n",
        "\n",
        "plt.figure(figsize=(10,8))\n",
        "plt.scatter(x, y, color = 'red')\n",
        "plt.title('Age vs Height')\n",
        "plt.xlabel('Age')\n",
        "plt.ylabel('Height')\n",
        "plt.show()"
      ],
      "execution_count": 58,
      "outputs": [
        {
          "output_type": "display_data",
          "data": {
            "image/png": "[encoded data removed]",
            "text/plain": [
              "<Figure size 720x576 with 1 Axes>"
            ]
          },
          "metadata": {
            "tags": []
          }
        }
      ]
    },
    {
      "cell_type": "markdown",
      "metadata": {
        "id": "DFVBCezzRai-",
        "colab_type": "text"
      },
      "source": [
        "Linear Regression Model"
      ]
    },
    {
      "cell_type": "code",
      "metadata": {
        "id": "Yc7sriFtNqjJ",
        "colab_type": "code",
        "colab": {}
      },
      "source": [
        "from sklearn.linear_model import LinearRegression\n",
        "from sklearn.metrics import r2_score"
      ],
      "execution_count": 0,
      "outputs": []
    },
    {
      "cell_type": "code",
      "metadata": {
        "id": "-d1pXtLrRjpX",
        "colab_type": "code",
        "colab": {}
      },
      "source": [
        "#Fitting the Linear Regression Model\n",
        "lr = LinearRegression()\n",
        "\n",
        "#Reshaping the independent variables\n",
        "lr.fit(x.reshape(-1, 1), y)\n",
        "\n",
        "#Predicting the model\n",
        "model_pred = lr.predict(x.reshape(-1,1))"
      ],
      "execution_count": 0,
      "outputs": []
    },
    {
      "cell_type": "code",
      "metadata": {
        "id": "VCgxxMl2OLJH",
        "colab_type": "code",
        "outputId": "9115846d-ab54-4bc6-89cf-d5a54880dbee",
        "colab": {
          "base_uri": "https://localhost:8080/",
          "height": 513
        }
      },
      "source": [
        "# Visualise the Linear Regression Result\n",
        "\n",
        "plt.figure(figsize=(10,8));\n",
        "\n",
        "plt.scatter(x, y, color = 'red');\n",
        "\n",
        "plt.plot(x, model_pred);\n",
        "\n",
        "plt.title('Linear Regression')\n",
        "\n",
        "plt.xlabel('Age')\n",
        "\n",
        "plt.ylabel('Height')\n",
        "\n",
        "plt.show()"
      ],
      "execution_count": 59,
      "outputs": [
        {
          "output_type": "display_data",
          "data": {
            "image/png": "[encoded data removed]",
            "text/plain": [
              "<Figure size 720x576 with 1 Axes>"
            ]
          },
          "metadata": {
            "tags": []
          }
        }
      ]
    },
    {
      "cell_type": "code",
      "metadata": {
        "id": "gLQjkiQLS1Kx",
        "colab_type": "code",
        "outputId": "f5a827c7-f8b9-4adb-c867-466b500d349a",
        "colab": {
          "base_uri": "https://localhost:8080/",
          "height": 33
        }
      },
      "source": [
        "# Model Evaluation using R-Square for Simple Linear Regression\n",
        "\n",
        "print('Linear_Regression_Prediction =',r2_score(y, model_pred))"
      ],
      "execution_count": 14,
      "outputs": [
        {
          "output_type": "stream",
          "text": [
            "Linear_Regression_Prediction = 0.897345538595226\n"
          ],
          "name": "stdout"
        }
      ]
    },
    {
      "cell_type": "markdown",
      "metadata": {
        "id": "PGmtv6R3TLRW",
        "colab_type": "text"
      },
      "source": [
        "Polynomial Regression"
      ]
    },
    {
      "cell_type": "code",
      "metadata": {
        "id": "P6aP16XqOyBS",
        "colab_type": "code",
        "colab": {}
      },
      "source": [
        "from sklearn.preprocessing import PolynomialFeatures"
      ],
      "execution_count": 0,
      "outputs": []
    },
    {
      "cell_type": "code",
      "metadata": {
        "id": "yn6DhzacO2jJ",
        "colab_type": "code",
        "colab": {}
      },
      "source": [
        "# Add the polynomial term to the model\n",
        "\n",
        "poly_reg = PolynomialFeatures(degree=3)"
      ],
      "execution_count": 0,
      "outputs": []
    },
    {
      "cell_type": "code",
      "metadata": {
        "id": "NWRurP77Tyl-",
        "colab_type": "code",
        "colab": {}
      },
      "source": [
        "#Fitting the transformation for polynomial term in model\n",
        "\n",
        "X_poly = poly_reg.fit_transform(x.reshape(-1, 1))"
      ],
      "execution_count": 0,
      "outputs": []
    },
    {
      "cell_type": "code",
      "metadata": {
        "id": "iF2h8RLGO4uG",
        "colab_type": "code",
        "outputId": "e24290ea-702a-4163-bf74-62f249ed6b22",
        "colab": {
          "base_uri": "https://localhost:8080/",
          "height": 33
        }
      },
      "source": [
        "#Fit the Polynomial Regression Model \n",
        "\n",
        "lin_reg_2 = LinearRegression()\n",
        "lin_reg_2.fit(X_poly, y.reshape(-1, 1))"
      ],
      "execution_count": 53,
      "outputs": [
        {
          "output_type": "execute_result",
          "data": {
            "text/plain": [
              "LinearRegression(copy_X=True, fit_intercept=True, n_jobs=None, normalize=False)"
            ]
          },
          "metadata": {
            "tags": []
          },
          "execution_count": 53
        }
      ]
    },
    {
      "cell_type": "code",
      "metadata": {
        "id": "Q3L8cfPKWuuB",
        "colab_type": "code",
        "colab": {
          "base_uri": "https://localhost:8080/",
          "height": 1000
        },
        "outputId": "9e2c150f-1beb-445a-d405-4f456b74660a"
      },
      "source": [
        "#Predicted Height from test dataset w.r.t Polynomial Regression\n",
        "y_pred = lin_reg_2.predict(X_poly)\n",
        "y_pred"
      ],
      "execution_count": 57,
      "outputs": [
        {
          "output_type": "execute_result",
          "data": {
            "text/plain": [
              "array([[137.27846146],\n",
              "       [137.69991937],\n",
              "       [138.1097357 ],\n",
              "       [138.50924149],\n",
              "       [138.89976776],\n",
              "       [139.28264556],\n",
              "       [139.65920592],\n",
              "       [140.03077988],\n",
              "       [140.39869848],\n",
              "       [140.76429274],\n",
              "       [141.12889371],\n",
              "       [141.49383241],\n",
              "       [141.8604399 ],\n",
              "       [142.2300472 ],\n",
              "       [142.60398534],\n",
              "       [142.98358537],\n",
              "       [143.37017831],\n",
              "       [143.76509522],\n",
              "       [144.16966711],\n",
              "       [144.58522503],\n",
              "       [145.01310001],\n",
              "       [145.45462308],\n",
              "       [145.9111253 ],\n",
              "       [146.38393768],\n",
              "       [146.87439126],\n",
              "       [147.38381709],\n",
              "       [147.91354619],\n",
              "       [148.4649096 ],\n",
              "       [149.03923836],\n",
              "       [149.63786351],\n",
              "       [150.26211607],\n",
              "       [150.91332709],\n",
              "       [151.5928276 ],\n",
              "       [152.30194864],\n",
              "       [153.04202124],\n",
              "       [153.81437643],\n",
              "       [154.62034526],\n",
              "       [155.46125876],\n",
              "       [156.33844796],\n",
              "       [157.2532439 ],\n",
              "       [158.20697762],\n",
              "       [159.20098015],\n",
              "       [160.23658253],\n",
              "       [161.31511579],\n",
              "       [162.43791098],\n",
              "       [163.60629911],\n",
              "       [164.82161124],\n",
              "       [166.08517839],\n",
              "       [167.3983316 ],\n",
              "       [168.76240192],\n",
              "       [170.17872036],\n",
              "       [171.64861798],\n",
              "       [173.1734258 ],\n",
              "       [174.75447486],\n",
              "       [176.39309619],\n",
              "       [178.09062084],\n",
              "       [179.84837983],\n",
              "       [181.66770421],\n",
              "       [183.54992501],\n",
              "       [185.49637326],\n",
              "       [187.50838001],\n",
              "       [189.58727627],\n",
              "       [191.73439311],\n",
              "       [193.95106153],\n",
              "       [196.23861259],\n",
              "       [198.59837733],\n",
              "       [201.03168676],\n",
              "       [203.53987194],\n",
              "       [206.12426389],\n",
              "       [208.78619365],\n",
              "       [211.52699226]])"
            ]
          },
          "metadata": {
            "tags": []
          },
          "execution_count": 57
        }
      ]
    },
    {
      "cell_type": "code",
      "metadata": {
        "id": "8M99tVQcO_Xu",
        "colab_type": "code",
        "outputId": "05ecd83c-6667-4e62-ed5c-571fcd8480da",
        "colab": {
          "base_uri": "https://localhost:8080/",
          "height": 513
        }
      },
      "source": [
        "# Visualise the Polynomial Regression Results \n",
        "\n",
        "plt.figure(figsize=(10,8));\n",
        "\n",
        "plt.scatter(x, y, color='red');\n",
        "\n",
        "plt.plot(x, y_pred, linewidth=3.0);\n",
        "\n",
        "plt.title('Polynomial Regression')\n",
        "\n",
        "plt.xlabel('Age')\n",
        "\n",
        "plt.ylabel('Height')\n",
        "\n",
        "plt.show()"
      ],
      "execution_count": 60,
      "outputs": [
        {
          "output_type": "display_data",
          "data": {
            "image/png": "[encoded data removed]",
            "text/plain": [
              "<Figure size 720x576 with 1 Axes>"
            ]
          },
          "metadata": {
            "tags": []
          }
        }
      ]
    },
    {
      "cell_type": "code",
      "metadata": {
        "id": "gSo7BMMcPNsL",
        "colab_type": "code",
        "outputId": "ea637fe5-233e-4750-acb5-14bc74a79e2c",
        "colab": {
          "base_uri": "https://localhost:8080/",
          "height": 33
        }
      },
      "source": [
        "#Model Evaluation using R-Square for Polynomial Regression\n",
        "\n",
        "print('Polynomial_Regression_Prediction =',r2_score(y, y_pred))"
      ],
      "execution_count": 56,
      "outputs": [
        {
          "output_type": "stream",
          "text": [
            "Polynomial_Regression_Prediction = 0.995600902516618\n"
          ],
          "name": "stdout"
        }
      ]
    },
    {
      "cell_type": "code",
      "metadata": {
        "id": "AMTcN6m9ioz8",
        "colab_type": "code",
        "colab": {}
      },
      "source": [
        ""
      ],
      "execution_count": 0,
      "outputs": []
    }
  ]
}